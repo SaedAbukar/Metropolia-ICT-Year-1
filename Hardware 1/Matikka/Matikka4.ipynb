{
 "cells": [
  {
   "cell_type": "code",
   "execution_count": 11,
   "id": "initial_id",
   "metadata": {
    "collapsed": true,
    "ExecuteTime": {
     "end_time": "2024-02-28T12:39:04.243609400Z",
     "start_time": "2024-02-28T12:39:04.232282500Z"
    }
   },
   "outputs": [],
   "source": [
    "from sympy import symbols, solve\n",
    "x, y, z = symbols('x, y, z')"
   ]
  },
  {
   "cell_type": "markdown",
   "source": [
    "## Session 2, Exercises 1 and 2"
   ],
   "metadata": {
    "collapsed": false
   },
   "id": "2a3b4d003a03a8d4"
  },
  {
   "cell_type": "code",
   "execution_count": 12,
   "outputs": [
    {
     "name": "stdout",
     "output_type": "stream",
     "text": [
      "1 a) {x: -22/19, y: 1/19, z: -12/19}\n",
      "1 b) {x: z, y: -z - 1}\n",
      "2 a) {x: -6, y: -2, z: -9}\n",
      " 2 b) []\n"
     ]
    }
   ],
   "source": [
    "oneA = solve([x - 2*y - 2*z + 0,\n",
    "                -2*x + y - z - 3,\n",
    "                3*x + 2*y + z + 4], [x, y, z])\n",
    "\n",
    "oneB = solve([x + y + 1,\n",
    "                2*x + y - z + 1,\n",
    "                3*x + y - 2*z + 1], [x, y, z])\n",
    "\n",
    "twoA = solve([2*x + 4*y - z + 11,\n",
    "                6*x - y - 2*z + 16,\n",
    "                4*x + 5*y - 2*z + 16], [x, y, z])\n",
    "\n",
    "twoB = solve([4*x + 2*y - 2*z + 0,\n",
    "                2*x + y - z + 1,\n",
    "                3*x + y - 2*z + 1], [x, y, z])\n",
    "\n",
    "print(f'1 a) {oneA}\\n1 b) {oneB}\\n2 a) {twoA}\\n 2 b) {twoB}')"
   ],
   "metadata": {
    "collapsed": false,
    "ExecuteTime": {
     "end_time": "2024-02-28T12:39:04.306523200Z",
     "start_time": "2024-02-28T12:39:04.259261200Z"
    }
   },
   "id": "94c31247fba98147"
  },
  {
   "cell_type": "markdown",
   "source": [
    "## Session 3, Exercise 1"
   ],
   "metadata": {
    "collapsed": false
   },
   "id": "c4e1f85628259e7c"
  },
  {
   "cell_type": "code",
   "execution_count": 13,
   "outputs": [
    {
     "name": "stdout",
     "output_type": "stream",
     "text": [
      "1 a) {x: -3, y: 2}\n",
      "1 b) {x: -2, y: 1, z: -3}\n",
      "1 c) []\n"
     ]
    }
   ],
   "source": [
    "A = solve([5*x + 3*y + 9,\n",
    "            2*x + y +4], [x, y, z])\n",
    "\n",
    "B = solve([2*x + y + z + 6,\n",
    "            x + 3*y + z + 2,\n",
    "            2*x + y + 2*z + 9], [x, y, z])\n",
    "\n",
    "C = solve([x+ y + 3*z -1,\n",
    "            3*x + y + z + 5,\n",
    "            2*x, y, 2*z + 2], [x, y, z])\n",
    "\n",
    "print(f'1 a) {A}\\n1 b) {B}\\n1 c) {C}')"
   ],
   "metadata": {
    "collapsed": false,
    "ExecuteTime": {
     "end_time": "2024-02-28T12:39:04.306523200Z",
     "start_time": "2024-02-28T12:39:04.275019900Z"
    }
   },
   "id": "fbb5c03b295532a7"
  }
 ],
 "metadata": {
  "kernelspec": {
   "display_name": "Python 3",
   "language": "python",
   "name": "python3"
  },
  "language_info": {
   "codemirror_mode": {
    "name": "ipython",
    "version": 2
   },
   "file_extension": ".py",
   "mimetype": "text/x-python",
   "name": "python",
   "nbconvert_exporter": "python",
   "pygments_lexer": "ipython2",
   "version": "2.7.6"
  }
 },
 "nbformat": 4,
 "nbformat_minor": 5
}
