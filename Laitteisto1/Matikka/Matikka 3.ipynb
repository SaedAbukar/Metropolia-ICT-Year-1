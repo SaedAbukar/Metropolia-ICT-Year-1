{
 "cells": [
  {
   "cell_type": "code",
   "execution_count": 6,
   "id": "initial_id",
   "metadata": {
    "collapsed": true,
    "ExecuteTime": {
     "end_time": "2024-02-28T12:47:50.761262300Z",
     "start_time": "2024-02-28T12:47:50.720411Z"
    }
   },
   "outputs": [
    {
     "name": "stdout",
     "output_type": "stream",
     "text": [
      "[[ 0  2]\n",
      " [ 1 -3]\n",
      " [ 3  5]]\n"
     ]
    },
    {
     "ename": "ValueError",
     "evalue": "operands could not be broadcast together with shapes (2,2) (2,3) ",
     "output_type": "error",
     "traceback": [
      "\u001B[1;31m---------------------------------------------------------------------------\u001B[0m",
      "\u001B[1;31mValueError\u001B[0m                                Traceback (most recent call last)",
      "Cell \u001B[1;32mIn[6], line 9\u001B[0m\n\u001B[0;32m      5\u001B[0m B_transpose \u001B[38;5;241m=\u001B[39m B\u001B[38;5;241m.\u001B[39mT\n\u001B[0;32m      7\u001B[0m \u001B[38;5;28mprint\u001B[39m(B_transpose)\n\u001B[1;32m----> 9\u001B[0m TwoA_sum_ThreeB \u001B[38;5;241m=\u001B[39m \u001B[43m(\u001B[49m\u001B[38;5;241;43m2\u001B[39;49m\u001B[43m \u001B[49m\u001B[38;5;241;43m*\u001B[39;49m\u001B[43m \u001B[49m\u001B[43mA\u001B[49m\u001B[43m)\u001B[49m\u001B[43m \u001B[49m\u001B[38;5;241;43m+\u001B[39;49m\u001B[43m \u001B[49m\u001B[43m(\u001B[49m\u001B[38;5;241;43m3\u001B[39;49m\u001B[43m \u001B[49m\u001B[38;5;241;43m*\u001B[39;49m\u001B[43m \u001B[49m\u001B[43mB\u001B[49m\u001B[43m)\u001B[49m\n\u001B[0;32m     10\u001B[0m subtract \u001B[38;5;241m=\u001B[39m A \u001B[38;5;241m-\u001B[39m B\n\u001B[0;32m     11\u001B[0m times \u001B[38;5;241m=\u001B[39m np\u001B[38;5;241m.\u001B[39mdot(A\u001B[38;5;241m.\u001B[39mT, B)\n",
      "\u001B[1;31mValueError\u001B[0m: operands could not be broadcast together with shapes (2,2) (2,3) "
     ]
    }
   ],
   "source": [
    "import numpy as np\n",
    "\n",
    "A = np.array([[-1, 2], [3, 1]])\n",
    "B = np.array([[0, 1, 3], [2, -3, 5]])\n",
    "B_transpose = B.T\n",
    "\n",
    "print(B_transpose)\n",
    "\n",
    "TwoA_sum_ThreeB = (2 * A) + (3 * B)\n",
    "subtract = A - B\n",
    "times = np.dot(A, B.T)\n",
    "\n",
    "print(f'1.) 2A + 3B\\n{TwoA_sum_ThreeB}\\n'\n",
    "      f'2.) A - B\\n{subtract}\\n'\n",
    "      f'3.) {times}')\n",
    "\n"
   ]
  },
  {
   "cell_type": "code",
   "execution_count": null,
   "outputs": [],
   "source": [
    "from sympy import symbols, solve\n",
    "x, y, z = symbols('x, y, z')\n",
    "A = solve([5*x + 3*y + 9,\n",
    "       2*x + y + 4], [x, y])\n",
    "\n",
    "B = solve([2*x + y + z + 6,\n",
    "           x + 3*y + z + 2,\n",
    "           2*x + y + 2*z + 9], [x, y, z])\n",
    "\n",
    "C = solve([x + y + 3*z - 1,\n",
    "           3*x + y + z + 5,\n",
    "           2*x + y + 2*z + 2], [x, y, z])\n",
    "\n",
    "print(f'1.) {A}\\n2.) {B}\\n3.) {C}')"
   ],
   "metadata": {
    "collapsed": false,
    "ExecuteTime": {
     "start_time": "2024-02-28T12:47:49.771195900Z"
    }
   },
   "id": "6582456149630f83"
  },
  {
   "cell_type": "code",
   "execution_count": null,
   "outputs": [],
   "source": [
    "import numpy as np\n",
    "\n",
    "A = np.array([[-1, 2], [3, 1]])\n",
    "B = np.array([[0, 1, 3], [2, -3, 5]])\n",
    "B_transpose = B.T\n",
    "\n",
    "print(B_transpose)\n",
    "\n",
    "TwoA_sum_ThreeB = (2 * A) + (3 * B)\n",
    "subtract = A - B\n",
    "# Perform matrix multiplication with the transposed B\n",
    "times = np.dot(A, B_transpose)\n",
    "\n",
    "print(f'1.) 2A + 3B\\n{TwoA_sum_ThreeB}\\n'\n",
    "      f'2.) A - B\\n{subtract}\\n'\n",
    "      f'3.) {times}')\n"
   ],
   "metadata": {
    "collapsed": false,
    "ExecuteTime": {
     "start_time": "2024-02-28T12:47:49.771195900Z"
    }
   },
   "id": "339a9067da51490"
  },
  {
   "cell_type": "code",
   "execution_count": null,
   "outputs": [],
   "source": [],
   "metadata": {
    "collapsed": false,
    "ExecuteTime": {
     "end_time": "2024-02-28T12:47:49.786642300Z",
     "start_time": "2024-02-28T12:47:49.786642300Z"
    }
   },
   "id": "43fafe2b1a2ef1dc"
  }
 ],
 "metadata": {
  "kernelspec": {
   "display_name": "Python 3",
   "language": "python",
   "name": "python3"
  },
  "language_info": {
   "codemirror_mode": {
    "name": "ipython",
    "version": 2
   },
   "file_extension": ".py",
   "mimetype": "text/x-python",
   "name": "python",
   "nbconvert_exporter": "python",
   "pygments_lexer": "ipython2",
   "version": "2.7.6"
  }
 },
 "nbformat": 4,
 "nbformat_minor": 5
}
